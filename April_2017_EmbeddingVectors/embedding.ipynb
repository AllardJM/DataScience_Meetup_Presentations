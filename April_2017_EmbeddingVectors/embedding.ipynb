{
 "cells": [
  {
   "cell_type": "code",
   "execution_count": 1,
   "metadata": {
    "scrolled": true
   },
   "outputs": [
    {
     "name": "stderr",
     "output_type": "stream",
     "text": [
      "/home/jma/anaconda3/lib/python3.6/site-packages/h5py/__init__.py:36: FutureWarning: Conversion of the second argument of issubdtype from `float` to `np.floating` is deprecated. In future, it will be treated as `np.float64 == np.dtype(float).type`.\n",
      "  from ._conv import register_converters as _register_converters\n",
      "Using TensorFlow backend.\n",
      "/home/jma/anaconda3/lib/python3.6/importlib/_bootstrap.py:205: RuntimeWarning: compiletime version 3.5 of module 'tensorflow.python.framework.fast_tensor_util' does not match runtime version 3.6\n",
      "  return f(*args, **kwds)\n"
     ]
    }
   ],
   "source": [
    "import pandas as pd\n",
    "import numpy as np\n",
    "\n",
    "from keras import *\n",
    "from keras.layers import Embedding, Input,concatenate, Flatten,dot, Dense\n",
    "from keras.models import Model\n",
    "from keras.optimizers import Adam\n",
    "\n",
    "from numpy.random import seed\n",
    "seed(51)\n",
    "from tensorflow import set_random_seed\n",
    "set_random_seed(22)\n",
    "\n",
    "\n",
    "import os\n",
    "os.environ[\"CUDA_DEVICE_ORDER\"] = \"PCI_BUS_ID\"   # see issue #152\n",
    "os.environ[\"CUDA_VISIBLE_DEVICES\"] = \"\""
   ]
  },
  {
   "cell_type": "code",
   "execution_count": 10,
   "metadata": {},
   "outputs": [
    {
     "name": "stdout",
     "output_type": "stream",
     "text": [
      "_________________________________________________________________\n",
      "Layer (type)                 Output Shape              Param #   \n",
      "=================================================================\n",
      "input_4 (InputLayer)         (None, 1)                 0         \n",
      "_________________________________________________________________\n",
      "embedding_4 (Embedding)      (None, 1, 3)              15        \n",
      "=================================================================\n",
      "Total params: 15\n",
      "Trainable params: 15\n",
      "Non-trainable params: 0\n",
      "_________________________________________________________________\n",
      "None\n",
      "\n",
      " \n",
      "-----------------------------------------------------------------\n",
      "-----------------------------------------------------------------\n",
      "Input shape:  (None, 1)\n",
      "Output shape:  (None, 1, 3)\n",
      "Weight Matrix shape:  (1, 5, 3)\n",
      " \n",
      " \n"
     ]
    },
    {
     "data": {
      "text/plain": [
       "[array([[-0.02434868,  0.02641512,  0.02833296],\n",
       "        [-0.0264437 , -0.04659697,  0.00371159],\n",
       "        [ 0.02535654, -0.01593039,  0.0152105 ],\n",
       "        [-0.04532808, -0.006714  , -0.02591713],\n",
       "        [-0.00216939,  0.04102891, -0.01888945]], dtype=float32)]"
      ]
     },
     "execution_count": 10,
     "metadata": {},
     "output_type": "execute_result"
    }
   ],
   "source": [
    "vocab_size=5  #we have 5 words in our vocabulary (0,1,2,3,4) -- generally think of this as 5 unqiue tokens\n",
    "             #(e.g. words, symbols, user IDs, Movie IDs, Product IDs )\n",
    "embedding_size=3 #there are three latent factors that describe our words\n",
    "\n",
    "\n",
    "embedding_layer = Embedding(output_dim=embedding_size, \\\n",
    "                            input_dim=vocab_size, \\\n",
    "                            input_length=1,\\\n",
    "                            mask_zero=True)\n",
    "\n",
    "x = Input(shape=[1])\n",
    "embedding = embedding_layer(x)\n",
    "model = Model(inputs=x, outputs=embedding)\n",
    "\n",
    "print(model.summary())\n",
    "print(\"\")\n",
    "print(\" \")\n",
    "print(\"-----------------------------------------------------------------\")\n",
    "print(\"-----------------------------------------------------------------\")\n",
    "\n",
    "print(\"Input shape: \", model.input_shape) #this \"model\" inputs a single number\n",
    "print(\"Output shape: \", model.output_shape) #this \"model\" exports a length (embedding_size) vector\n",
    "\n",
    "print(\"Weight Matrix shape: \", np.array(model.get_weights()).shape) #shape of the embedding matrix is\n",
    "                                                                    #(1, vocab_size, embedding_size)\n",
    "print(\" \")\n",
    "print(\" \")\n",
    "model.get_weights() #The embedding weights\n"
   ]
  },
  {
   "cell_type": "code",
   "execution_count": 12,
   "metadata": {},
   "outputs": [
    {
     "data": {
      "text/plain": [
       "array([[[ 0.02535654, -0.01593039,  0.0152105 ]],\n",
       "\n",
       "       [[ 0.02535654, -0.01593039,  0.0152105 ]],\n",
       "\n",
       "       [[-0.0264437 , -0.04659697,  0.00371159]]], dtype=float32)"
      ]
     },
     "execution_count": 12,
     "metadata": {},
     "output_type": "execute_result"
    }
   ],
   "source": [
    "#simply a lookup\n",
    "\n",
    "X = np.array(([2],[2],[1])) #3rd, 3rd, 2nd words\n",
    "model.predict(X)"
   ]
  },
  {
   "cell_type": "code",
   "execution_count": 13,
   "metadata": {},
   "outputs": [
    {
     "name": "stdout",
     "output_type": "stream",
     "text": [
      "__________________________________________________________________________________________________\n",
      "Layer (type)                    Output Shape         Param #     Connected to                     \n",
      "==================================================================================================\n",
      "input_5 (InputLayer)            (None, 1)            0                                            \n",
      "__________________________________________________________________________________________________\n",
      "input_6 (InputLayer)            (None, 1)            0                                            \n",
      "__________________________________________________________________________________________________\n",
      "embedding_5 (Embedding)         (None, 1, 3)         21          input_5[0][0]                    \n",
      "__________________________________________________________________________________________________\n",
      "embedding_6 (Embedding)         (None, 1, 3)         15          input_6[0][0]                    \n",
      "__________________________________________________________________________________________________\n",
      "concatenate_1 (Concatenate)     (None, 1, 6)         0           embedding_5[0][0]                \n",
      "                                                                 embedding_6[0][0]                \n",
      "__________________________________________________________________________________________________\n",
      "flatten_1 (Flatten)             (None, 6)            0           concatenate_1[0][0]              \n",
      "==================================================================================================\n",
      "Total params: 36\n",
      "Trainable params: 36\n",
      "Non-trainable params: 0\n",
      "__________________________________________________________________________________________________\n",
      "None\n",
      " \n",
      " \n",
      "-----------------------------------------------------------------\n",
      "-----------------------------------------------------------------\n",
      " \n",
      "Input shape:  [(None, 1), (None, 1)]\n",
      "Output shape:  (None, 6)\n",
      " \n",
      "User weight Matrix shape:  (7, 3)\n",
      "Movies weight Matrix shape:  (5, 3)\n",
      " \n",
      "User embedding weights\n",
      "-----------------------------------------------------------------\n",
      "[[-0.01192247  0.0029695  -0.04093463]\n",
      " [ 0.03142424 -0.04858527  0.01714227]\n",
      " [-0.00115309  0.0027717   0.0452025 ]\n",
      " [-0.00717747  0.00594933  0.00543087]\n",
      " [-0.00803168 -0.04429523 -0.00055258]\n",
      " [ 0.00224601 -0.01125713 -0.01098534]\n",
      " [-0.01774049 -0.04440355  0.04540284]]\n",
      " \n",
      " \n",
      "Movie embedding weights\n",
      "-----------------------------------------------------------------\n",
      "[[ 0.01013019  0.04473348 -0.03012686]\n",
      " [ 0.01903756 -0.02693369  0.02577094]\n",
      " [-0.01932679  0.01362795  0.03613641]\n",
      " [-0.02342827  0.00045323 -0.019732  ]\n",
      " [-0.04033861  0.01433581 -0.03953437]]\n"
     ]
    }
   ],
   "source": [
    "vocab_size_1=7  #User IDs?\n",
    "vocab_size_2=5 #movie IDs?\n",
    "\n",
    "embedding_size=3 #constant\n",
    "\n",
    "\n",
    "embedding_layer_1 = Embedding(output_dim=embedding_size, input_dim=vocab_size_1,input_length=1, mask_zero=False)\n",
    "embedding_layer_2 = Embedding(output_dim=embedding_size, input_dim=vocab_size_2,input_length=1, mask_zero=False)\n",
    "\n",
    "userIDs = Input(shape=[1])\n",
    "movieIDs = Input(shape=[1])\n",
    "\n",
    "\n",
    "embedding_users = embedding_layer_1 (userIDs)\n",
    "embedding_movies = embedding_layer_2(movieIDs)\n",
    "\n",
    "x= concatenate([embedding_users,embedding_movies])\n",
    "x=Flatten()(x)\n",
    "\n",
    "model = Model(inputs=[userIDs,movieIDs], outputs=x)\n",
    "\n",
    "print(model.summary())\n",
    "print(\" \")\n",
    "print(\" \")\n",
    "print(\"-----------------------------------------------------------------\")\n",
    "print(\"-----------------------------------------------------------------\")\n",
    "print(\" \")\n",
    "print(\"Input shape: \", model.input_shape) #this \"model\" inputs a single number\n",
    "print(\"Output shape: \", model.output_shape) #this \"model\" exports a length (embedding_size) vector\n",
    "\n",
    "print(\" \")\n",
    "print(\"User weight Matrix shape: \", np.array(model.get_weights()[0]).shape) \n",
    "print(\"Movies weight Matrix shape: \", np.array(model.get_weights()[1]).shape) \n",
    "\n",
    "print(\" \")\n",
    "print(\"User embedding weights\")\n",
    "print(\"-----------------------------------------------------------------\")\n",
    "print(model.get_weights()[0])\n",
    "print(\" \")\n",
    "print(\" \")\n",
    "print(\"Movie embedding weights\")\n",
    "print(\"-----------------------------------------------------------------\")\n",
    "print(model.get_weights()[1]) \n"
   ]
  },
  {
   "cell_type": "code",
   "execution_count": 14,
   "metadata": {},
   "outputs": [
    {
     "data": {
      "text/plain": [
       "array([[ 0.03142424, -0.04858527,  0.01714227, -0.01932679,  0.01362795,\n",
       "         0.03613641]], dtype=float32)"
      ]
     },
     "execution_count": 14,
     "metadata": {},
     "output_type": "execute_result"
    }
   ],
   "source": [
    "X = [np.array(([1])),np.array(([2]))] #2nd UserID and 3rd Movie embeddings concatenated\n",
    "model.predict(X)"
   ]
  },
  {
   "cell_type": "code",
   "execution_count": 15,
   "metadata": {},
   "outputs": [
    {
     "name": "stdout",
     "output_type": "stream",
     "text": [
      "__________________________________________________________________________________________________\n",
      "Layer (type)                    Output Shape         Param #     Connected to                     \n",
      "==================================================================================================\n",
      "input_7 (InputLayer)            (None, 1)            0                                            \n",
      "__________________________________________________________________________________________________\n",
      "input_8 (InputLayer)            (None, 1)            0                                            \n",
      "__________________________________________________________________________________________________\n",
      "embedding_7 (Embedding)         (None, 1, 3)         21          input_7[0][0]                    \n",
      "__________________________________________________________________________________________________\n",
      "embedding_8 (Embedding)         (None, 1, 3)         15          input_8[0][0]                    \n",
      "__________________________________________________________________________________________________\n",
      "dot_1 (Dot)                     (None, 1, 1)         0           embedding_7[0][0]                \n",
      "                                                                 embedding_8[0][0]                \n",
      "__________________________________________________________________________________________________\n",
      "flatten_2 (Flatten)             (None, 1)            0           dot_1[0][0]                      \n",
      "==================================================================================================\n",
      "Total params: 36\n",
      "Trainable params: 36\n",
      "Non-trainable params: 0\n",
      "__________________________________________________________________________________________________\n",
      "None\n",
      " \n",
      " \n",
      "-----------------------------------------------------------------\n",
      "-----------------------------------------------------------------\n",
      " \n",
      "Input shape:  [(None, 1), (None, 1)]\n",
      "Output shape:  (None, 1)\n",
      " \n",
      "User weight Matrix shape:  (7, 3)\n",
      "Movies weight Matrix shape:  (5, 3)\n",
      " \n",
      "User embedding weights\n",
      "-----------------------------------------------------------------\n",
      "[[ 0.01939822 -0.00226993  0.01306352]\n",
      " [-0.0186571   0.0330062   0.04820073]\n",
      " [ 0.00251064 -0.04183862 -0.03642789]\n",
      " [ 0.00023526  0.01128336  0.0078494 ]\n",
      " [-0.03066055 -0.03888987  0.03406401]\n",
      " [ 0.01233882 -0.0446869  -0.04168095]\n",
      " [ 0.0471624  -0.01228008 -0.02249651]]\n",
      " \n",
      " \n",
      "Movie embedding weights\n",
      "-----------------------------------------------------------------\n",
      "[[ 0.04271629  0.04784758 -0.04064437]\n",
      " [ 0.00511865 -0.01188575 -0.01779165]\n",
      " [ 0.02200354  0.0365074  -0.01522399]\n",
      " [ 0.04000196  0.00796368 -0.00654631]\n",
      " [-0.03486657  0.04537861 -0.03768573]]\n"
     ]
    }
   ],
   "source": [
    "vocab_size_1=7  #User IDs?\n",
    "vocab_size_2=5 #movie IDs?\n",
    "\n",
    "embedding_size=3 #constant\n",
    "\n",
    "\n",
    "embedding_layer_1 = Embedding(output_dim=embedding_size, input_dim=vocab_size_1,input_length=1, mask_zero=False)\n",
    "embedding_layer_2 = Embedding(output_dim=embedding_size, input_dim=vocab_size_2,input_length=1, mask_zero=False)\n",
    "\n",
    "userIDs = Input(shape=[1])\n",
    "movieIDs = Input(shape=[1])\n",
    "\n",
    "\n",
    "embedding_users = embedding_layer_1 (userIDs)\n",
    "embedding_movies = embedding_layer_2(movieIDs)\n",
    "\n",
    "x= dot([embedding_users,embedding_movies],axes=-1)\n",
    "x=Flatten()(x)\n",
    "\n",
    "model = Model(inputs=[userIDs,movieIDs], outputs=x)\n",
    "\n",
    "print(model.summary())\n",
    "print(\" \")\n",
    "print(\" \")\n",
    "print(\"-----------------------------------------------------------------\")\n",
    "print(\"-----------------------------------------------------------------\")\n",
    "print(\" \")\n",
    "print(\"Input shape: \", model.input_shape) #this \"model\" inputs a single number\n",
    "print(\"Output shape: \", model.output_shape) #this \"model\" exports a length (embedding_size) vector\n",
    "\n",
    "print(\" \")\n",
    "print(\"User weight Matrix shape: \", np.array(model.get_weights()[0]).shape) \n",
    "print(\"Movies weight Matrix shape: \", np.array(model.get_weights()[1]).shape) \n",
    "\n",
    "print(\" \")\n",
    "print(\"User embedding weights\")\n",
    "print(\"-----------------------------------------------------------------\")\n",
    "print(model.get_weights()[0])\n",
    "print(\" \")\n",
    "print(\" \")\n",
    "print(\"Movie embedding weights\")\n",
    "print(\"-----------------------------------------------------------------\")\n",
    "print(model.get_weights()[1]) \n"
   ]
  },
  {
   "cell_type": "code",
   "execution_count": 16,
   "metadata": {},
   "outputs": [
    {
     "data": {
      "text/plain": [
       "array([[6.0641032e-05]], dtype=float32)"
      ]
     },
     "execution_count": 16,
     "metadata": {},
     "output_type": "execute_result"
    }
   ],
   "source": [
    "X = [np.array(([1])),np.array(([2]))] #2nd UserID and 3rd Movie embeddings dot\n",
    "model.predict(X)"
   ]
  },
  {
   "cell_type": "code",
   "execution_count": 17,
   "metadata": {},
   "outputs": [
    {
     "data": {
      "text/plain": [
       "6.0641003e-05"
      ]
     },
     "execution_count": 17,
     "metadata": {},
     "output_type": "execute_result"
    }
   ],
   "source": [
    "np.dot(np.array(model.get_weights()[0][1]),np.array(model.get_weights()[1][2]))"
   ]
  },
  {
   "cell_type": "code",
   "execution_count": null,
   "metadata": {},
   "outputs": [],
   "source": [
    "from IPython.display import Image\n",
    "Image(\"/home/jma/Desktop/march_embedding/Screenshot from 2018-01-30 10-41-23.png\")"
   ]
  },
  {
   "cell_type": "code",
   "execution_count": null,
   "metadata": {},
   "outputs": [],
   "source": []
  },
  {
   "cell_type": "code",
   "execution_count": null,
   "metadata": {},
   "outputs": [],
   "source": []
  },
  {
   "cell_type": "code",
   "execution_count": null,
   "metadata": {},
   "outputs": [],
   "source": []
  }
 ],
 "metadata": {
  "kernelspec": {
   "display_name": "Python 3",
   "language": "python",
   "name": "python3"
  },
  "language_info": {
   "codemirror_mode": {
    "name": "ipython",
    "version": 3
   },
   "file_extension": ".py",
   "mimetype": "text/x-python",
   "name": "python",
   "nbconvert_exporter": "python",
   "pygments_lexer": "ipython3",
   "version": "3.6.2"
  }
 },
 "nbformat": 4,
 "nbformat_minor": 2
}
