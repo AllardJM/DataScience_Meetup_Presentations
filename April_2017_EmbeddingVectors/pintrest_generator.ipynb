{
 "cells": [
  {
   "cell_type": "markdown",
   "metadata": {},
   "source": [
    "# <h3>Dependencies</h3>"
   ]
  },
  {
   "cell_type": "code",
   "execution_count": 2,
   "metadata": {},
   "outputs": [],
   "source": [
    "import pandas as pd\n",
    "import numpy as np\n",
    "\n",
    "%matplotlib inline  \n",
    "import matplotlib.pyplot as plt\n",
    "\n",
    "from dask import dataframe as dd\n",
    "#import os\n",
    "#os.environ['CUDA_VISIBLE_DEVICES'] = '-1'\n",
    "\n",
    "import keras\n",
    "from keras import *\n",
    "import keras.backend as K\n",
    "from keras.layers import Embedding, Input,concatenate, Flatten,dot, Dense\n",
    "from keras.models import Model\n",
    "from keras.optimizers import Adam"
   ]
  },
  {
   "cell_type": "markdown",
   "metadata": {},
   "source": [
    "# <h1>Training Set Prep </h1>"
   ]
  },
  {
   "cell_type": "code",
   "execution_count": 2,
   "metadata": {},
   "outputs": [
    {
     "name": "stdout",
     "output_type": "stream",
     "text": [
      "(1445622, 2)\n"
     ]
    },
    {
     "data": {
      "text/html": [
       "<div>\n",
       "<style>\n",
       "    .dataframe thead tr:only-child th {\n",
       "        text-align: right;\n",
       "    }\n",
       "\n",
       "    .dataframe thead th {\n",
       "        text-align: left;\n",
       "    }\n",
       "\n",
       "    .dataframe tbody tr th {\n",
       "        vertical-align: top;\n",
       "    }\n",
       "</style>\n",
       "<table border=\"1\" class=\"dataframe\">\n",
       "  <thead>\n",
       "    <tr style=\"text-align: right;\">\n",
       "      <th></th>\n",
       "      <th>userID</th>\n",
       "      <th>itemID</th>\n",
       "    </tr>\n",
       "  </thead>\n",
       "  <tbody>\n",
       "    <tr>\n",
       "      <th>0</th>\n",
       "      <td>0</td>\n",
       "      <td>2</td>\n",
       "    </tr>\n",
       "    <tr>\n",
       "      <th>1</th>\n",
       "      <td>0</td>\n",
       "      <td>3</td>\n",
       "    </tr>\n",
       "    <tr>\n",
       "      <th>2</th>\n",
       "      <td>0</td>\n",
       "      <td>4</td>\n",
       "    </tr>\n",
       "    <tr>\n",
       "      <th>3</th>\n",
       "      <td>0</td>\n",
       "      <td>5</td>\n",
       "    </tr>\n",
       "    <tr>\n",
       "      <th>4</th>\n",
       "      <td>0</td>\n",
       "      <td>6</td>\n",
       "    </tr>\n",
       "  </tbody>\n",
       "</table>\n",
       "</div>"
      ],
      "text/plain": [
       "   userID  itemID\n",
       "0       0       2\n",
       "1       0       3\n",
       "2       0       4\n",
       "3       0       5\n",
       "4       0       6"
      ]
     },
     "execution_count": 2,
     "metadata": {},
     "output_type": "execute_result"
    }
   ],
   "source": [
    "#download data here: https://github.com/hexiangnan/neural_collaborative_filtering/tree/master/Data\n",
    "pos_train=pd.read_csv('/media/jma/DATA/neural_collaborative_filtering-master/Data/pinterest-20.train.rating',sep=\"\\t\", names=['userID', 'itemID','rating','timestamp' ])\n",
    "pos_train = pos_train.drop (['timestamp','rating'], axis=1)\n",
    "print(pos_train.shape)\n",
    "pos_train.head()\n"
   ]
  },
  {
   "cell_type": "markdown",
   "metadata": {},
   "source": [
    "<h3>Unique Users</h3>"
   ]
  },
  {
   "cell_type": "code",
   "execution_count": 3,
   "metadata": {},
   "outputs": [
    {
     "name": "stdout",
     "output_type": "stream",
     "text": [
      "Unique items: 9911\n",
      "Unique users: 55187\n"
     ]
    }
   ],
   "source": [
    "unique_items=pos_train.itemID.unique() #these are unique items\n",
    "print('Unique items: '+str(len(unique_items)))\n",
    "\n",
    "unique_users=pos_train.userID.unique() #these are unique items\n",
    "print('Unique users: '+str(len(unique_users)))\n"
   ]
  },
  {
   "cell_type": "code",
   "execution_count": null,
   "metadata": {},
   "outputs": [],
   "source": [
    "'''\n",
    "Map each user and item ID to a distinct contiguous integer\n",
    "Create dictionary of this mapping\n",
    "Add a \"catch-all\" for other IDs not seen\n",
    "\n",
    "'''"
   ]
  },
  {
   "cell_type": "code",
   "execution_count": 6,
   "metadata": {},
   "outputs": [
    {
     "name": "stdout",
     "output_type": "stream",
     "text": [
      "55186\n",
      "9915\n"
     ]
    }
   ],
   "source": [
    "#clean up the users and items to make sure they are contiguous.\n",
    "\n",
    "user_code_dict ={j:i for (i,j) in  enumerate(np.sort(unique_users))}\n",
    "user_decode_dict ={i:j for (i,j) in  enumerate(np.sort(unique_users))}\n",
    "\n",
    "item_code_dict ={j:i for (i,j) in  enumerate(np.sort(unique_items))}\n",
    "item_decode_dict ={i:j for (i,j) in  enumerate(np.sort(unique_items))}\n",
    "\n",
    "pos_train_coded= pos_train.values\n",
    "\n",
    "\n",
    "for i,_ in enumerate(pos_train.values):\n",
    "    pos_train_coded[i,0]=user_code_dict[int(pos_train.values[i,0])]\n",
    "    pos_train_coded[i,1]=item_code_dict[int(pos_train.values[i,1])]\n",
    "\n",
    "    \n",
    "    \n",
    "#add catch alls (next numeric key and length of uniques as values start with zero)\n",
    "print(max(user_code_dict.keys()))\n",
    "print(max(item_code_dict.keys()))\n",
    "user_code_dict[max(user_code_dict.keys())+1]=len(user_code_dict)\n",
    "item_code_dict[max(item_code_dict.keys())+1]=len(item_code_dict)\n",
    "\n",
    "#as DF to use as lookup of test sets\n",
    "user_df=pd.DataFrame(np.column_stack([list(user_code_dict.keys()),list(user_code_dict.values())]),columns=['key','value'])\n",
    "item_df=pd.DataFrame(np.column_stack([list(item_code_dict.keys()),list(item_code_dict.values())]),columns=['key','value'])\n"
   ]
  },
  {
   "cell_type": "markdown",
   "metadata": {},
   "source": [
    "<h3>Distribution of positive events per User</h3>"
   ]
  },
  {
   "cell_type": "code",
   "execution_count": 6,
   "metadata": {},
   "outputs": [
    {
     "data": {
      "text/plain": [
       "count    55187.000000\n",
       "mean        26.194973\n",
       "std          7.527052\n",
       "min         14.000000\n",
       "25%         21.000000\n",
       "50%         24.000000\n",
       "75%         29.000000\n",
       "max        136.000000\n",
       "Name: userID, dtype: float64"
      ]
     },
     "execution_count": 6,
     "metadata": {},
     "output_type": "execute_result"
    },
    {
     "data": {
      "image/png": "[encoded data removed]",
      "text/plain": [
       "<matplotlib.figure.Figure at 0x7f82dcb70780>"
      ]
     },
     "metadata": {},
     "output_type": "display_data"
    }
   ],
   "source": [
    "user_gp=pos_train['userID'].value_counts()\n",
    "\n",
    "\n",
    "user_gp.hist()\n",
    "user_gp.describe()\n"
   ]
  },
  {
   "cell_type": "markdown",
   "metadata": {},
   "source": [
    "# <h1>Test Set Prep</h1>"
   ]
  },
  {
   "cell_type": "code",
   "execution_count": null,
   "metadata": {},
   "outputs": [],
   "source": [
    "'''\n",
    "Clean up test set from sparse matrix format\n",
    "Encode IDs with the mapping of training set above\n",
    "Stack positive example and 99 negative examples\n",
    "\n",
    "\n",
    "'''"
   ]
  },
  {
   "cell_type": "code",
   "execution_count": 7,
   "metadata": {},
   "outputs": [
    {
     "name": "stdout",
     "output_type": "stream",
     "text": [
      "(55187, 102)\n",
      "(55187, 3)\n",
      "(5518700, 3)\n",
      "user       int64\n",
      "item       int64\n",
      "respond    int64\n",
      "dtype: object\n"
     ]
    }
   ],
   "source": [
    "#create test set\n",
    "neg_test=pd.read_csv('/media/jma/DATA/neural_collaborative_filtering-master/Data/pinterest-20.test.negative',sep=\"\\t\", names=['var1']+['neg_item_'+str(i) for i in np.arange(99)+1])\n",
    "neg_test['user_id'] = neg_test.var1.str.extract(r'([0-9]+)(?=,)', expand=False)\n",
    "neg_test['item_id'] = neg_test.var1.str.extract(r'(?<=,)([0-9]+)', expand=False)                                                                         \n",
    "      \n",
    "print(neg_test.shape)\n",
    "\n",
    "\n",
    "\n",
    "test_coded= np.zeros((neg_test.shape[0],3))\n",
    "\n",
    "#positives\n",
    "test_coded[:,0]=neg_test.values[:,100].astype(\"int\")\n",
    "test_coded[:,1]=neg_test.values[:,101].astype(\"int\")\n",
    "test_coded[:,2]=np.repeat(1,neg_test.shape[0])\n",
    "\n",
    "pos_examples=pd.DataFrame(test_coded,columns=['user','item','respond'])\n",
    "\n",
    "print(pos_examples.shape)\n",
    "\n",
    "#col index 1-99 are items\n",
    "#user is 100\n",
    "t=neg_test.iloc[:,1:101]\n",
    "neg_examples=pd.melt(t,id_vars=['user_id'],var_name='iter', value_name='item')\n",
    "neg_examples['respond']=0\n",
    "neg_examples=neg_examples[['user_id','item','respond']]\n",
    "neg_examples.columns.values[0] = 'user' \n",
    "\n",
    "test_coded = pd.concat([pos_examples,neg_examples],axis=0)\n",
    "test_coded=test_coded.astype(int)\n",
    "\n",
    "print(test_coded.shape)\n",
    "print(test_coded.dtypes)\n",
    "  \n",
    "test_coded.to_csv('/home/jma/Desktop/march_embedding/test_coded.csv',  index=False)\n",
    "\n",
    "\n",
    "\n",
    "del test_coded"
   ]
  },
  {
   "cell_type": "code",
   "execution_count": 8,
   "metadata": {},
   "outputs": [
    {
     "name": "stdout",
     "output_type": "stream",
     "text": [
      "        user  item  respond\n",
      "0          0     1        1\n",
      "55187      0  2670        0\n",
      "110374     0  8388        0\n",
      "165561     0  5861        0\n",
      "220748     0  5089        0\n",
      "        user    item  respond\n",
      "0          0     1.0        1\n",
      "55187      0  2670.0        0\n",
      "110374     0  8387.0        0\n",
      "165561     0  5861.0        0\n",
      "220748     0  5089.0        0\n",
      "        user    item  respond\n",
      "0          0     1.0        1\n",
      "55187      0  2670.0        0\n",
      "110374     0  8387.0        0\n",
      "165561     0  5861.0        0\n",
      "220748     0  5089.0        0\n"
     ]
    }
   ],
   "source": [
    "#join to update user and items with lookups for how we coded user and item IDS\n",
    "test_set = pd.read_csv('/home/jma/Desktop/march_embedding/test_coded.csv',dtype='int64')\n",
    "\n",
    "#update user\n",
    "test_set=pd.merge(test_set,user_df,  how='left', left_on=['user'],right_on=['key'])\n",
    "test_set=test_set[['value','item','respond']]\n",
    "test_set.rename(columns={\"value\": \"user\"},inplace=True)\n",
    "print(test_set[test_set.user==0].head())\n",
    "\n",
    "#update item\n",
    "test_set=pd.merge(test_set,item_df,  how='left', left_on=['item'],right_on=['key'])\n",
    "test_set=test_set[['user','value','respond']]\n",
    "test_set.rename(columns={\"value\": \"item\"},inplace=True)\n",
    "print(test_set[test_set.user==0].head())\n",
    "\n",
    "#code missing with out default values\n",
    "test_set['user']=test_set.user.fillna(55186+1)\n",
    "test_set['item']=test_set.item.fillna(9915+1)\n",
    "\n",
    "print(test_set[test_set.user==0].head())\n",
    "\n",
    "pd.DataFrame(test_set,columns=['user','item','respond']).to_csv('/home/jma/Desktop/march_embedding/test_coded_final.csv',  index=False)\n",
    "\n",
    "del test_set\n"
   ]
  },
  {
   "cell_type": "markdown",
   "metadata": {},
   "source": [
    "# <h1>Negative Sampling Generator</h1>"
   ]
  },
  {
   "cell_type": "code",
   "execution_count": null,
   "metadata": {},
   "outputs": [],
   "source": [
    "'''\n",
    "This function will randomly sample a positive and num_neg exaples from that same user for negatives. \n",
    "\n",
    "Too expensive to check on negatives, we will assume it will be rare to sample a positive as a negative\n",
    "\n",
    "\n",
    "Need to return X as shape (batch_size,[user, input])\n",
    "\n",
    "'''"
   ]
  },
  {
   "cell_type": "code",
   "execution_count": 4,
   "metadata": {},
   "outputs": [],
   "source": [
    "#build generator for negative sampling training\n",
    "\n",
    "\n",
    "def generator_neg_sampling(pos_data,unique_items,num_neg=4, batch_size=128, shuffle =False):\n",
    "    \n",
    "    #persist\n",
    "    i=0\n",
    "    nb_pos_records = pos_data.shape[0]\n",
    "    np.random.shuffle(pos_data)\n",
    "    \n",
    "    while 1:\n",
    "        \n",
    "        #reset each time\n",
    "        hold_user=[]\n",
    "        hold_item =[]\n",
    "        hold_label=[]\n",
    "        \n",
    "        \n",
    "        #number of users to sample with num_neg +1 instances\n",
    "        n_pos_users = batch_size // (num_neg +1) #on average each bacth will contain this many users\n",
    "        #extra negatives to sample to meet batch size\n",
    "        extra_negs = (batch_size - (n_pos_users*(num_neg+1)))\n",
    "        \n",
    "        if shuffle: #randomly grab positives\n",
    "            #sample positive user indexes\n",
    "            pos_indices=np.random.randint(0, nb_pos_records , n_pos_users)\n",
    "        \n",
    "        else: #step through data to grab positives\n",
    "            \n",
    "            pos_indices=[]\n",
    "           \n",
    "            for indx in range(n_pos_users):\n",
    "                \n",
    "                if  i > nb_pos_records -1: #past the end of data, reset\n",
    "                    i=0\n",
    "                pos_indices.append(i)\n",
    "                i+=1\n",
    "\n",
    "        for user_idx in pos_indices:\n",
    "            \n",
    "            #add positives\n",
    "            hold_user.append(pos_data[user_idx,0])\n",
    "            hold_item.append(pos_data[user_idx,1])\n",
    "            hold_label.append(1)\n",
    "            \n",
    "            #add random \"negatives\"\n",
    "            for cntr in range(num_neg):\n",
    "                hold_user.append(pos_data[user_idx,0])\n",
    "                hold_item.append(unique_items[np.random.randint(0,len(unique_items))])\n",
    "                hold_label.append(0)\n",
    "        \n",
    "        #fill in mini batch\n",
    "        for cntr in range(extra_negs):\n",
    "                hold_user.append(pos_data[np.random.randint(0,nb_pos_records),0])\n",
    "                hold_item.append(unique_items[np.random.randint(0,len(unique_items))])\n",
    "                hold_label.append(0)\n",
    "    \n",
    "                \n",
    "            \n",
    "        X= [np.array(hold_user),np.array(hold_item)]\n",
    "        y =np.array(hold_label)\n",
    "            \n",
    "            \n",
    " \n",
    "        yield(X, y)\n",
    "    "
   ]
  },
  {
   "cell_type": "markdown",
   "metadata": {},
   "source": [
    "# <h1>Train Model</h1>"
   ]
  },
  {
   "cell_type": "code",
   "execution_count": 7,
   "metadata": {},
   "outputs": [],
   "source": [
    "#train generator\n",
    "batch_size = 256  #NN batch size\n",
    "num_neg=4 #number of neg samples for each positive\n",
    "\n",
    "train_gen=generator_neg_sampling(pos_data=pos_train_coded,unique_items=unique_items,num_neg=num_neg, batch_size=batch_size, shuffle =True)\n"
   ]
  },
  {
   "cell_type": "code",
   "execution_count": null,
   "metadata": {},
   "outputs": [],
   "source": [
    "'''\n",
    "Model concatenates user and item embedding vectors (each with dand\n",
    "feeds them through 3 dense layers of size (32,16,8)\n",
    "Relu activations with sigmpid for the last layer\n",
    "\n",
    "'''"
   ]
  },
  {
   "cell_type": "code",
   "execution_count": 8,
   "metadata": {},
   "outputs": [],
   "source": [
    "#build NN\n",
    "\n",
    "def get_model(num_users, num_items, embed_dim=50, num_layer=1, layers=[10]):\n",
    "    \n",
    "    \n",
    "    num_layer = len(layers) #Number of layers in the MLP\n",
    "    \n",
    "    \n",
    "    # Input variables\n",
    "    userIDs = Input(shape=[1])\n",
    "    itemIDs = Input(shape=[1])\n",
    "    \n",
    "    # Embedding layer\n",
    "\n",
    "    embedding_User = Embedding(input_dim = len(user_code_dict), output_dim = embed_dim, input_length=1)\n",
    "    embedding_Item = Embedding(input_dim = len(item_code_dict), output_dim = embed_dim, input_length=1)   \n",
    "    \n",
    "    \n",
    "    embedding_User = embedding_User (userIDs)\n",
    "    embedding_Item = embedding_Item (itemIDs)\n",
    "\n",
    "    x= concatenate([embedding_User,embedding_Item])\n",
    "    x=Flatten()(x)\n",
    "   \n",
    "\n",
    "    for idx in range(0, num_layer):\n",
    "        layer = Dense(layers[idx], activation='relu')\n",
    "        x = layer(x)\n",
    "\n",
    "    \n",
    "    # Final prediction layer\n",
    "    prediction = Dense(1, activation='sigmoid', kernel_initializer='lecun_uniform')(x)\n",
    "    \n",
    "    model = Model(inputs=[userIDs, itemIDs], outputs=prediction)\n",
    "    \n",
    "    return model\n"
   ]
  },
  {
   "cell_type": "code",
   "execution_count": 9,
   "metadata": {},
   "outputs": [
    {
     "name": "stdout",
     "output_type": "stream",
     "text": [
      "__________________________________________________________________________________________________\n",
      "Layer (type)                    Output Shape         Param #     Connected to                     \n",
      "==================================================================================================\n",
      "input_1 (InputLayer)            (None, 1)            0                                            \n",
      "__________________________________________________________________________________________________\n",
      "input_2 (InputLayer)            (None, 1)            0                                            \n",
      "__________________________________________________________________________________________________\n",
      "embedding_1 (Embedding)         (None, 1, 32)        1766016     input_1[0][0]                    \n",
      "__________________________________________________________________________________________________\n",
      "embedding_2 (Embedding)         (None, 1, 32)        317184      input_2[0][0]                    \n",
      "__________________________________________________________________________________________________\n",
      "concatenate_1 (Concatenate)     (None, 1, 64)        0           embedding_1[0][0]                \n",
      "                                                                 embedding_2[0][0]                \n",
      "__________________________________________________________________________________________________\n",
      "flatten_1 (Flatten)             (None, 64)           0           concatenate_1[0][0]              \n",
      "__________________________________________________________________________________________________\n",
      "dense_1 (Dense)                 (None, 32)           2080        flatten_1[0][0]                  \n",
      "__________________________________________________________________________________________________\n",
      "dense_2 (Dense)                 (None, 16)           528         dense_1[0][0]                    \n",
      "__________________________________________________________________________________________________\n",
      "dense_3 (Dense)                 (None, 8)            136         dense_2[0][0]                    \n",
      "__________________________________________________________________________________________________\n",
      "dense_4 (Dense)                 (None, 1)            9           dense_3[0][0]                    \n",
      "==================================================================================================\n",
      "Total params: 2,085,953\n",
      "Trainable params: 2,085,953\n",
      "Non-trainable params: 0\n",
      "__________________________________________________________________________________________________\n"
     ]
    }
   ],
   "source": [
    "model=get_model(num_users=len(unique_users), num_items=len(unique_items), embed_dim=32, num_layer=3, layers=[32,16,8])\n",
    "model.compile(optimizer=Adam(lr=0.001), loss='binary_crossentropy')\n",
    "model.summary()"
   ]
  },
  {
   "cell_type": "code",
   "execution_count": 10,
   "metadata": {},
   "outputs": [
    {
     "name": "stdout",
     "output_type": "stream",
     "text": [
      "Epoch 1/10\n",
      "28345/28345 [==============================] - 132s 5ms/step - loss: 0.3166\n",
      "Epoch 2/10\n",
      "28345/28345 [==============================] - 131s 5ms/step - loss: 0.2162\n",
      "Epoch 3/10\n",
      "28345/28345 [==============================] - 129s 5ms/step - loss: 0.1946\n",
      "Epoch 4/10\n",
      "28345/28345 [==============================] - 128s 5ms/step - loss: 0.1842\n",
      "Epoch 5/10\n",
      "28345/28345 [==============================] - 130s 5ms/step - loss: 0.1770\n",
      "Epoch 6/10\n",
      "28345/28345 [==============================] - 133s 5ms/step - loss: 0.1720\n",
      "Epoch 7/10\n",
      "28345/28345 [==============================] - 129s 5ms/step - loss: 0.1684\n",
      "Epoch 8/10\n",
      "28345/28345 [==============================] - 133s 5ms/step - loss: 0.1653\n",
      "Epoch 9/10\n",
      "28345/28345 [==============================] - 135s 5ms/step - loss: 0.1625\n",
      "Epoch 10/10\n",
      "28345/28345 [==============================] - 137s 5ms/step - loss: 0.1604\n"
     ]
    }
   ],
   "source": [
    "steps_per_epoch = pos_train.shape[0] // (batch_size // (num_neg +1))  #calculates how many bacthes from the generate constitutes 1 full epoch\n",
    "\n",
    "hist=model.fit_generator(train_gen, steps_per_epoch=steps_per_epoch, epochs=10, verbose=1)"
   ]
  },
  {
   "cell_type": "code",
   "execution_count": 11,
   "metadata": {},
   "outputs": [],
   "source": [
    "#save model\n",
    "model.save('/home/jma/Desktop/march_embedding/embedding_model.h5')"
   ]
  },
  {
   "cell_type": "code",
   "execution_count": 12,
   "metadata": {},
   "outputs": [
    {
     "data": {
      "text/plain": [
       "[<matplotlib.lines.Line2D at 0x7f31c406a630>]"
      ]
     },
     "execution_count": 12,
     "metadata": {},
     "output_type": "execute_result"
    },
    {
     "data": {
      "image/png": "[encoded data removed]",
      "text/plain": [
       "<matplotlib.figure.Figure at 0x7f31c408e1d0>"
      ]
     },
     "metadata": {},
     "output_type": "display_data"
    }
   ],
   "source": [
    "plt.plot(hist.history['loss'])"
   ]
  },
  {
   "cell_type": "markdown",
   "metadata": {},
   "source": [
    "# <h1>Examine Learned Vectors</h1>"
   ]
  },
  {
   "cell_type": "code",
   "execution_count": 21,
   "metadata": {},
   "outputs": [
    {
     "name": "stdout",
     "output_type": "stream",
     "text": [
      "Recall: \n",
      "Unique items: 9911\n",
      "Unique users: 55187\n",
      "\n",
      "\n",
      "Size of User Embedding Matrix (55188, 32)\n",
      "Size of Item Embedding Matrix (9912, 32)\n",
      "\n",
      "The embedding vector learned for user 0:::\n",
      "\n",
      "Size of this vector:  (32,)\n"
     ]
    },
    {
     "data": {
      "text/plain": [
       "array([ 0.41143423,  0.18503964, -0.06315383,  0.6700903 , -0.8432784 ,\n",
       "        0.25440395,  0.24474768,  0.36077878,  0.6298261 ,  0.621534  ,\n",
       "        0.6079664 ,  0.5611511 ,  0.7825801 , -0.21765196, -0.3598696 ,\n",
       "       -0.2571831 ,  0.5210942 , -0.17665927, -0.49372506,  0.5476562 ,\n",
       "        0.78053933,  0.31078222, -0.683741  , -1.0129145 ,  0.4008244 ,\n",
       "        0.21178038,  0.7806613 , -0.52161795, -0.54230267, -0.10124873,\n",
       "        0.217736  ,  0.41645637], dtype=float32)"
      ]
     },
     "execution_count": 21,
     "metadata": {},
     "output_type": "execute_result"
    }
   ],
   "source": [
    "#load model\n",
    "model=keras.models.load_model('/home/jma/Desktop/march_embedding/embedding_model.h5')\n",
    "\n",
    "\n",
    "print ('Recall: \\nUnique items: 9911\\nUnique users: 55187\\n\\n')\n",
    "\n",
    "weights=model.get_weights()\n",
    "print('Size of User Embedding Matrix',weights[0].shape)\n",
    "print('Size of Item Embedding Matrix',weights[1].shape)\n",
    "\n",
    "print('\\nThe embedding vector learned for user 0:::\\n')\n",
    "print('Size of this vector: ',weights[0][0,:].shape )\n",
    "weights[0][0,:]"
   ]
  },
  {
   "cell_type": "markdown",
   "metadata": {},
   "source": [
    "# <h1>Function to Iterate Test Set and Produce HR</h1>"
   ]
  },
  {
   "cell_type": "code",
   "execution_count": null,
   "metadata": {},
   "outputs": [],
   "source": [
    "'''\n",
    "Score the 100 records per user in the test set\n",
    "Select the top 10 scored records and calculate the % of time the single posiitve is present\n",
    "This Hit Rate sits at ~85% contrasted with chance of 10% --- over an 8x improvement\n",
    "\n",
    "\n",
    "'''"
   ]
  },
  {
   "cell_type": "code",
   "execution_count": 14,
   "metadata": {},
   "outputs": [
    {
     "name": "stdout",
     "output_type": "stream",
     "text": [
      "[########################################] | 100% Completed |  1min 42.8s\n",
      "0.8518672875858445\n",
      "CPU times: user 4min 50s, sys: 16.6 s, total: 5min 6s\n",
      "Wall time: 1min 43s\n"
     ]
    }
   ],
   "source": [
    "%%time \n",
    "import dask.dataframe as dd\n",
    "from dask.diagnostics import ProgressBar\n",
    "\n",
    "#USING DASK\n",
    "#here we are returning the result as a pandas DF\n",
    "\n",
    "\n",
    "model=keras.models.load_model('/home/jma/Desktop/march_embedding/embedding_model.h5')\n",
    "\n",
    "#this part\n",
    "import tensorflow as tf\n",
    "global graph\n",
    "graph = tf.get_default_graph()\n",
    "\n",
    "\n",
    "def calc_HR_ind_dsk(grp):\n",
    "    topk=10\n",
    "    x=[grp['user'].values,grp['item'].values]\n",
    "   \n",
    "    with graph.as_default(): #and this part from https://github.com/keras-team/keras/issues/2397\n",
    "        pred_act=list(zip(model.predict(x)[:,0],grp['respond'].values))\n",
    "    top=sorted(pred_act, key=lambda x: -x[0])[0:topk]\n",
    "    hit=sum([x[1] for x in top])\n",
    "    \n",
    "    return(hit)\n",
    "    \n",
    "\n",
    "\n",
    "\n",
    "\n",
    "\n",
    "df = dd.read_csv('/home/jma/Desktop/march_embedding/test_coded_final.csv',dtype='int64')\n",
    "with ProgressBar():\n",
    "    results=df.groupby('user').apply(calc_HR_ind_dsk,meta=('hit', 'int')).compute()\n",
    "print(results.mean())\n"
   ]
  },
  {
   "cell_type": "code",
   "execution_count": null,
   "metadata": {},
   "outputs": [],
   "source": []
  },
  {
   "cell_type": "code",
   "execution_count": null,
   "metadata": {},
   "outputs": [],
   "source": []
  },
  {
   "cell_type": "code",
   "execution_count": null,
   "metadata": {},
   "outputs": [],
   "source": []
  },
  {
   "cell_type": "code",
   "execution_count": null,
   "metadata": {},
   "outputs": [],
   "source": []
  },
  {
   "cell_type": "code",
   "execution_count": null,
   "metadata": {},
   "outputs": [],
   "source": []
  },
  {
   "cell_type": "code",
   "execution_count": null,
   "metadata": {},
   "outputs": [],
   "source": []
  },
  {
   "cell_type": "code",
   "execution_count": null,
   "metadata": {},
   "outputs": [],
   "source": [
    "#below are just other scoring methods used to compare time "
   ]
  },
  {
   "cell_type": "code",
   "execution_count": null,
   "metadata": {},
   "outputs": [],
   "source": [
    "#load model\n",
    "model=keras.models.load_model('/home/jma/Desktop/march_embedding/embedding_model.h5')"
   ]
  },
  {
   "cell_type": "code",
   "execution_count": null,
   "metadata": {},
   "outputs": [],
   "source": [
    "#function to loop through the test set and return a set of records to score\n",
    "\n",
    "'''\n",
    "Iterate through distinct user ids from the test set (each time will grab the 100 records of that user).\n",
    "There will be 1 postive and 99 negatives\n",
    "Score the 100 records, rank the top @ (10), write a 1 to an array if the positive example is in the top @, else 0\n",
    "\n",
    "'''\n",
    "\n",
    "def evalModel(test_set,model,topk):\n",
    "    \n",
    "    \n",
    "    users=test_set['user'].unique()\n",
    "    results=np.zeros((len(users),2),dtype=np.int64) #user and 1 or 0 if was in topk\n",
    "    \n",
    "    \n",
    "    for i, user in enumerate(users): #for each user\n",
    "        toscore=test_set[test_set.user ==user] \n",
    "        x=[toscore['user'].values,toscore['item'].values]\n",
    "        z=list(zip(model.predict(x)[:,0],toscore['respond'].values))\n",
    "        v=sorted(z, key=lambda x: -x[0])[0:topk]\n",
    "        \n",
    "        results[i,0]=user\n",
    "        results[i,1]=sum([x[1] for x in v])\n",
    "        \n",
    "        if i%500 ==0 and i>0:\n",
    "            print(\"Users Scored: \"+str(i))\n",
    "            print(\"Cumulative HR: \"+str(np.mean(results[0:i,1])))\n",
    "    return(results)    \n",
    "    \n",
    "    \n",
    "\n",
    "    \n"
   ]
  },
  {
   "cell_type": "code",
   "execution_count": null,
   "metadata": {},
   "outputs": [],
   "source": [
    "test_set=pd.read_csv('/home/jma/Desktop/march_embedding/test_coded_final.csv',dtype='int64')"
   ]
  },
  {
   "cell_type": "code",
   "execution_count": null,
   "metadata": {},
   "outputs": [],
   "source": [
    "%%time\n",
    "results=evalModel(test_set,model,10)"
   ]
  },
  {
   "cell_type": "code",
   "execution_count": null,
   "metadata": {},
   "outputs": [],
   "source": [
    "%%time\n",
    "def prepX(records_to_score):\n",
    "    return([records_to_score['user'].values,records_to_score['item'].values])\n",
    "\n",
    "\n",
    "def predict_records(model,x,actual):\n",
    "    return(list(zip(model.predict(x)[:,0],actual)))\n",
    "\n",
    "           \n",
    "def calc_HR(scores,topk):\n",
    "    top=sorted(scores, key=lambda x: -x[0])[0:topk]\n",
    "    return(sum([x[1] for x in top]))       \n",
    "\n",
    "           \n",
    "\n",
    "user_lst=[user for user in test_set['user'].unique()]\n",
    "result=0\n",
    "counter=1\n",
    "\n",
    "\n",
    "for user in user_lst:\n",
    "    toscore=df[df.user ==user] \n",
    "    x=prepX(toscore)\n",
    "    scores=predict_records(model,x,toscore['respond'].values)\n",
    "    result += calc_HR(scores,10)\n",
    "    counter += 1\n",
    "    \n",
    "    \n",
    "print(result/counter)"
   ]
  },
  {
   "cell_type": "code",
   "execution_count": 3,
   "metadata": {},
   "outputs": [
    {
     "name": "stdout",
     "output_type": "stream",
     "text": [
      "0.8499827858010038\n",
      "CPU times: user 5min 23s, sys: 20.4 s, total: 5min 43s\n",
      "Wall time: 3min 1s\n"
     ]
    }
   ],
   "source": [
    "%%time\n",
    "\n",
    "#try groupby instead\n",
    "def calc_HR_ind(grp, model, topk ):\n",
    "    x=[grp['user'].values,grp['item'].values]\n",
    "    pred_act=list(zip(model.predict(x)[:,0],grp['respond'].values))\n",
    "    top=sorted(pred_act, key=lambda x: -x[0])[0:topk]\n",
    "    hit=sum([x[1] for x in top])\n",
    "    return(hit)\n",
    " \n",
    "model=keras.models.load_model('/home/jma/Desktop/march_embedding/embedding_model.h5')\n",
    "df = pd.read_csv('/home/jma/Desktop/march_embedding/test_coded_final.csv',dtype='int64')\n",
    "results=df.groupby('user').apply(calc_HR_ind,model=model,topk=10)\n",
    "\n",
    "print(results.mean())\n"
   ]
  },
  {
   "cell_type": "code",
   "execution_count": 2,
   "metadata": {},
   "outputs": [
    {
     "name": "stdout",
     "output_type": "stream",
     "text": [
      "CPU times: user 4min 49s, sys: 17.9 s, total: 5min 7s\n",
      "Wall time: 1min 42s\n"
     ]
    }
   ],
   "source": [
    "%%time\n",
    "\n",
    "import dask.dataframe as dd\n",
    "from dask.diagnostics import ProgressBar\n",
    "\n",
    "\n",
    "#USING DASK\n",
    "#Write to disk\n",
    "\n",
    "model=keras.models.load_model('/home/jma/Desktop/march_embedding/embedding_model.h5')\n",
    "\n",
    "#this part\n",
    "import tensorflow as tf\n",
    "global graph\n",
    "graph = tf.get_default_graph()\n",
    "\n",
    "\n",
    "def calc_HR_ind_dsk(grp):\n",
    "    topk=10\n",
    "    x=[grp['user'].values,grp['item'].values]\n",
    "   \n",
    "    with graph.as_default(): #and this part from https://github.com/keras-team/keras/issues/2397\n",
    "        pred_act=list(zip(model.predict(x)[:,0],grp['respond'].values))\n",
    "    top=sorted(pred_act, key=lambda x: -x[0])[0:topk]\n",
    "    hit=sum([x[1] for x in top])\n",
    "    \n",
    "    \n",
    "    return(hit)\n",
    "    \n",
    "\n",
    "\n",
    "\n",
    "df = dd.read_csv('/home/jma/Desktop/march_embedding/test_coded_final.csv',dtype='int64')\n",
    "\n",
    "\n",
    "#NOTE: dont use compute\n",
    "df.groupby('user').apply(calc_HR_ind_dsk,meta=('hit', 'int')).reset_index().to_csv('/home/jma/Desktop/march_embedding/hold_out/export-*.csv', index=False)\n",
    "\n"
   ]
  }
 ],
 "metadata": {
  "kernelspec": {
   "display_name": "Python 3",
   "language": "python",
   "name": "python3"
  },
  "language_info": {
   "codemirror_mode": {
    "name": "ipython",
    "version": 3
   },
   "file_extension": ".py",
   "mimetype": "text/x-python",
   "name": "python",
   "nbconvert_exporter": "python",
   "pygments_lexer": "ipython3",
   "version": "3.6.2"
  }
 },
 "nbformat": 4,
 "nbformat_minor": 2
}
